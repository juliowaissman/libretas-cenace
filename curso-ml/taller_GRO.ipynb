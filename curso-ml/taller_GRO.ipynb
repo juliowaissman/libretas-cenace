{
  "nbformat": 4,
  "nbformat_minor": 0,
  "metadata": {
    "colab": {
      "name": "taller_GRO.ipynb",
      "provenance": [],
      "collapsed_sections": []
    },
    "kernelspec": {
      "name": "python3",
      "display_name": "Python 3"
    },
    "language_info": {
      "name": "python"
    }
  },
  "cells": [
    {
      "cell_type": "markdown",
      "metadata": {
        "id": "6bFS950QLSbn"
      },
      "source": [
        "<center>\n",
        "<p><img src=\"https://www.gob.mx/cms/uploads/image/file/179499/outstanding_quienes-somos.jpg\" width=\"300\">\n",
        "</p>\n",
        "\n",
        "\n",
        "\n",
        "# Curso *Machine Learning con uso de pandas, scikit learn y libretas jupyter*\n",
        "\n",
        "# Analisis demanda Gerncia Oriental \n",
        "\n",
        "\n",
        "<p> Julio Waissman Vilanova </p>\n",
        "<p>\n",
        "<img src=\"https://identidadbuho.unison.mx/wp-content/uploads/2019/06/letragrama-cmyk-72.jpg\" width=\"80\">\n",
        "</p>\n",
        "</center>\n"
      ]
    },
    {
      "cell_type": "code",
      "metadata": {
        "id": "2cdmutiIklyQ"
      },
      "source": [
        "!pip install skforecast\n",
        "!pip install -U openpyxl"
      ],
      "execution_count": null,
      "outputs": []
    },
    {
      "cell_type": "code",
      "metadata": {
        "id": "SBmAn3oDLOVy"
      },
      "source": [
        "import numpy as np\n",
        "import pandas as pd\n",
        "import matplotlib.pyplot as plt\n",
        "from sklearn.linear_model import Ridge\n",
        "from sklearn.metrics import mean_absolute_error\n",
        "\n",
        "plt.style.use('ggplot')\n",
        "plt.rcParams['figure.figsize'] = [15, 7]"
      ],
      "execution_count": 9,
      "outputs": []
    },
    {
      "cell_type": "code",
      "metadata": {
        "id": "u2q_POdTLpHg"
      },
      "source": [
        "url = \"https://github.com/juliowaissman/curso-ml-cenace/raw/main/datos/historico_demanda_temp.xlsx\"\n",
        "\n",
        "df_demanda = pd.read_excel(url, sheet_name=0)\n",
        "df_temperatura = pd.read_excel(url, sheet_name=1)\n",
        "\n",
        "# Elimina los comentarios si quieres ver la información de los dataframes\n",
        "print(df_demanda.info())\n",
        "print(df_temperatura.info())"
      ],
      "execution_count": null,
      "outputs": []
    },
    {
      "cell_type": "code",
      "metadata": {
        "id": "Jyvue-_cMHwx"
      },
      "source": [
        "def estira(df, name):\n",
        "  df = df.melt(\n",
        "    id_vars=['FECHA'], \n",
        "    value_vars=list(range(1, 25)),\n",
        "    var_name='Hora',\n",
        "    value_name=name\n",
        "  )\n",
        "  df.index = df['FECHA'] + pd.to_timedelta((df.Hora.values - 1).tolist(), unit='h')\n",
        "  df.sort_index(inplace=True)\n",
        "  df.drop(columns=['FECHA', 'Hora'], inplace=True)\n",
        "  return df\n",
        "\n",
        "df_demanda.rename(columns={'Unnamed: 1': 'FECHA'}, inplace=True)\n",
        "df_demanda = estira(df_demanda, 'Demanda')\n",
        "df_temperatura = estira(df_temperatura, 'Temperatura')\n",
        "\n",
        "df = df_demanda.join(df_temperatura.Temperatura)"
      ],
      "execution_count": 83,
      "outputs": []
    },
    {
      "cell_type": "code",
      "metadata": {
        "id": "PdyYEixmR_XJ"
      },
      "source": [
        "df"
      ],
      "execution_count": null,
      "outputs": []
    },
    {
      "cell_type": "code",
      "metadata": {
        "id": "XY7ZsVvTGYAF"
      },
      "source": [
        "def elimina_no_numericos(df, var, verbose=True):\n",
        "  \"Elimina valores no numericos de una serie y la convierte a dtype numerico\"\n",
        "\n",
        "  def no_numerico(serie):\n",
        "    \"Aplica una función que verifica si el elemento no es float o int\"\n",
        "    return serie.apply(\n",
        "      lambda x: type(x) != type(3.14) and type(x) != type(1)\n",
        "    )\n",
        "\n",
        "  if verbose:\n",
        "    print(\"**Eliminando valores no numéricos**\")\n",
        "    print(df.loc[no_numerico(df[var]), var])\n",
        "  df.loc[no_numerico(df[var]), var] = np.NaN\n",
        "  df[var] = pd.to_numeric(df[var])\n",
        "  return df\n",
        "\n",
        "df = elimina_no_numericos(df, 'Demanda')\n",
        "df = elimina_no_numericos(df, 'Temperatura')\n",
        "\n",
        "df.Demanda.fillna(method='pad', inplace=True)\n",
        "df.Temperatura.fillna(method='pad', inplace=True)"
      ],
      "execution_count": null,
      "outputs": []
    },
    {
      "cell_type": "code",
      "metadata": {
        "id": "eiG6wfOXJ2u0"
      },
      "source": [
        "df[(df.index.month == 8) &\n",
        "   (df.index.year == 2021)].Temperatura.plot(title=\"Temperatura agosto 2021\")"
      ],
      "execution_count": null,
      "outputs": []
    },
    {
      "cell_type": "code",
      "metadata": {
        "id": "z__f5YlzOhbM"
      },
      "source": [
        "df = df[df.index < pd.to_datetime('18-8-2021', format=\"%d-%m-%Y\")]\n",
        "\n",
        "df[(df.index.month == 8) &\n",
        "   (df.index.year == 2021)].Temperatura.plot(title='Temperatura agosto 2021')"
      ],
      "execution_count": null,
      "outputs": []
    },
    {
      "cell_type": "code",
      "metadata": {
        "id": "ZMZhzmPQOX_v"
      },
      "source": [
        "df.Demanda.plot(style='b', title=\"Demanda histórica\")"
      ],
      "execution_count": null,
      "outputs": []
    },
    {
      "cell_type": "code",
      "metadata": {
        "id": "kl6ufmTvUpPL"
      },
      "source": [
        "año, mes = 2019, 4\n",
        "df[(df.index.year == año) & \n",
        "   (df.index.month == mes)].Demanda.plot(title=f\"Demanda de energia, año {año}, mes {mes}\")"
      ],
      "execution_count": null,
      "outputs": []
    },
    {
      "cell_type": "markdown",
      "metadata": {
        "id": "79G0_eUsYqU3"
      },
      "source": [
        "Vamos a modificar los datos extremos debido al cambio de horario"
      ]
    },
    {
      "cell_type": "code",
      "metadata": {
        "id": "99od0B5ed6WB"
      },
      "source": [
        "print(\"**Estas son las fechas que vamos a cambiar\")\n",
        "print(df.loc[(df.Demanda > 8000) | (df.Demanda < 500), 'Demanda'])\n",
        "df.loc[(df.Demanda > 8000) | (df.Demanda < 500), 'Demanda'] = np.NaN\n",
        "df.Demanda.fillna(method='pad', inplace=True)\n",
        "\n",
        "df.Demanda.plot(style='b', title=\"Demanda histórica con corrección por cambio de horario\")"
      ],
      "execution_count": null,
      "outputs": []
    },
    {
      "cell_type": "code",
      "metadata": {
        "id": "1V5anQrp8bYy"
      },
      "source": [
        "# Vamos a asegurarnos que hay valor para todas las horas\n",
        "df = df.asfreq('H', method='pad')"
      ],
      "execution_count": 101,
      "outputs": []
    },
    {
      "cell_type": "code",
      "metadata": {
        "id": "csESjfFKZha2"
      },
      "source": [
        "df.groupby(df.index.weekday).agg(\n",
        "    {\n",
        "        'Demanda': ['min', 'max', 'mean', 'median', 'std', 'mad']\n",
        "    }\n",
        ")"
      ],
      "execution_count": null,
      "outputs": []
    },
    {
      "cell_type": "code",
      "metadata": {
        "id": "dZopOtu9VwDk"
      },
      "source": [
        "df.groupby(df.index.month).agg(\n",
        "    {\n",
        "        'Demanda': ['min', 'max', 'mean'],\n",
        "        'Temperatura': ['min', 'max', 'mean']     \n",
        "    }\n",
        ")"
      ],
      "execution_count": null,
      "outputs": []
    },
    {
      "cell_type": "code",
      "metadata": {
        "id": "zs0GAU9-cTNm"
      },
      "source": [
        "def barras(df, temporalidad, variable):\n",
        "    tempo = {\n",
        "        'año': df.index.year, \n",
        "        'mes': df.index.month,\n",
        "        'dia': df.index.weekday,\n",
        "        'hora': df.index.hour\n",
        "    }\n",
        "    ax = df[[variable]].groupby(tempo[temporalidad]).boxplot(subplots=False, rot=90)\n",
        "    ax.set_title(f'Evolción de la {variable} por {temporalidad}')\n",
        "    plt.show()\n",
        "\n",
        "barras(df[df.index.year==2019], 'mes', 'Demanda')\n",
        "barras(df[df.index.year==2019], 'mes', 'Temperatura')"
      ],
      "execution_count": null,
      "outputs": []
    },
    {
      "cell_type": "markdown",
      "metadata": {
        "id": "IKePT6SdhWTh"
      },
      "source": [
        "## Forecasting\n"
      ]
    },
    {
      "cell_type": "markdown",
      "metadata": {
        "id": "fzbFKCtOF3gM"
      },
      "source": [
        "### 1. Encontrar los mejores parámetros "
      ]
    },
    {
      "cell_type": "code",
      "metadata": {
        "id": "sSJP8ErTAqUp"
      },
      "source": [
        "df_train = df[df.index.year < 2020]\n",
        "df_val = df[df.index.year == 2021]"
      ],
      "execution_count": 170,
      "outputs": []
    },
    {
      "cell_type": "code",
      "metadata": {
        "id": "h96DwI3VhaJv"
      },
      "source": [
        "from skforecast.ForecasterAutoreg import ForecasterAutoreg\n",
        "from skforecast.model_selection import grid_search_forecaster\n",
        "\n",
        "forecaster = ForecasterAutoreg(\n",
        "    regressor= Ridge(normalize=True),\n",
        "    lags= 24 # Este valor será remplazado en el grid search\n",
        ")\n",
        "\n",
        "# Hiperparámetros del regresor\n",
        "param_grid = {'alpha': np.logspace(-5, -1, 5)}\n",
        "\n",
        "# Lags utilizados como predictores\n",
        "lags_grid = [\n",
        "  24, \n",
        "  [1, 2, 3, 24-1, 24, 24+1, 48-1, 48, 48+1],\n",
        "  [1, 2, 3, 24-1, 24, 24+1, 48-1, 48, 48+1, \n",
        "   24 * 7 - 3, 24 * 7 - 2, 24 * 7 - 1, 24 * 7, 24 * 7 + 1, 24 * 7 + 2, 24 * 7 + 3]\n",
        "]\n",
        "\n",
        "resultados_grid = grid_search_forecaster(\n",
        "    forecaster= forecaster,\n",
        "    y= df_train.Demanda,\n",
        "    param_grid= param_grid,\n",
        "    lags_grid= lags_grid,\n",
        "    steps= 36,\n",
        "    metric= 'mean_absolute_error',\n",
        "    method= 'backtesting',\n",
        "    initial_train_size = len(df_train.Demanda[df_train.index.year < 2019]),\n",
        "    return_best= True,\n",
        "    verbose= False\n",
        ")"
      ],
      "execution_count": null,
      "outputs": []
    },
    {
      "cell_type": "code",
      "metadata": {
        "id": "cUOly8jyCRAs"
      },
      "source": [
        "resultados_grid"
      ],
      "execution_count": null,
      "outputs": []
    },
    {
      "cell_type": "code",
      "metadata": {
        "id": "yxcxwlcIC6JA"
      },
      "source": [
        "forecaster"
      ],
      "execution_count": null,
      "outputs": []
    },
    {
      "cell_type": "markdown",
      "metadata": {
        "id": "ONaWKXQQDHu_"
      },
      "source": [
        "Para probar nuestro forcaster, tenemos que usar la función para estimar las 24 horas del día siguiente pero 12 horas antes."
      ]
    },
    {
      "cell_type": "code",
      "metadata": {
        "id": "7Ea2WL0tDTjq"
      },
      "source": [
        "def backtest_predict_next_24h(\n",
        "    forecaster, y, hour_init_prediction, exog=None, verbose=False):\n",
        "    '''\n",
        "    Backtest ForecasterAutoreg object when predicting 24 hours of day D+1\n",
        "    statring at specific hour of day D.\n",
        "    \n",
        "    Parameters\n",
        "    ----------\n",
        "    forecaster : ForecasterAutoreg \n",
        "        ForecasterAutoreg object already trained.\n",
        "        \n",
        "    y : pd.Series with datetime index sorted\n",
        "        Test time series values. \n",
        "        \n",
        "    exog : pd.Series or pd.Dataframe with datetime index sorted\n",
        "        Test values of exogen variable. \n",
        "    \n",
        "    hour_init_prediction: int \n",
        "        Hour of day D to start predictions of day D+1.\n",
        "\n",
        "\n",
        "    Returns \n",
        "    -------\n",
        "    predictions: pd.Series\n",
        "        Value of predictions.\n",
        "\n",
        "    '''\n",
        "    \n",
        "    y = y.sort_index()\n",
        "    if exog is not None:\n",
        "        exog = exog.sort_index()\n",
        "        \n",
        "    dummy_steps = 24 - (hour_init_prediction + 1)\n",
        "    steps = dummy_steps + 24\n",
        "    \n",
        "    # First position of `hour_init_prediction` in the series where there is enough\n",
        "    # previous window to calculate lags.\n",
        "    for datetime in y.index[y.index.hour == hour_init_prediction]:\n",
        "        if len(y[:datetime]) >= len(forecaster.last_window):\n",
        "            datetime_init_backtest = datetime\n",
        "            print(f\"Backtesting starts at day: {datetime_init_backtest}\")\n",
        "            break\n",
        "    \n",
        "    days_backtest = np.unique(y[datetime_init_backtest:].index.date)\n",
        "    days_backtest = pd.to_datetime(days_backtest)\n",
        "    days_backtest = days_backtest[1:]\n",
        "    print(f\"Days predicted in the backtesting: {days_backtest.strftime('%Y-%m-%d').values}\")\n",
        "    print('')\n",
        "    backtest_predictions = []\n",
        "    \n",
        "    for i, day in enumerate(days_backtest):        \n",
        "        # Start and end of the last window used to create the lags\n",
        "        end_window = (day - pd.Timedelta(1, unit='day')).replace(hour=hour_init_prediction)\n",
        "        start_window = end_window - pd.Timedelta(forecaster.max_lag, unit='hour')\n",
        "        last_window = y.loc[start_window:end_window]\n",
        "               \n",
        "        if exog is None:\n",
        "            if verbose:\n",
        "                print(f\"Forecasting day {day.strftime('%Y-%m-%d')}\")\n",
        "                print(f\"Using window from {start_window} to {end_window}\")\n",
        "                \n",
        "            pred = forecaster.predict(steps=steps, last_window=last_window)\n",
        "            \n",
        "        else:\n",
        "            start_exog_window = end_window + pd.Timedelta(1, unit='hour')\n",
        "            end_exog_window   = end_window + pd.Timedelta(steps, unit='hour')\n",
        "            exog_window = exog.loc[start_exog_window:end_exog_window]\n",
        "            exog_window = exog_window.to_numpy()\n",
        "            \n",
        "            if verbose:\n",
        "                print(f\"Forecasting day {day.strftime('%Y-%m-%d')}\")\n",
        "                print(f\"    Using window from {start_window} to {end_window}\")\n",
        "                print(f\"    Using exogen variable from {start_exog_window} to {end_exog_window}\")\n",
        "            \n",
        "            pred = forecaster.predict(steps=steps, last_window=last_window, exog=exog_window)\n",
        "\n",
        "        # Only store predictions of day D+1\n",
        "        pred = pred[dummy_steps:]\n",
        "        backtest_predictions.append(pred)\n",
        "    \n",
        "    backtest_predictions = np.concatenate(backtest_predictions)\n",
        "    # Add datetime index\n",
        "    backtest_predictions = pd.Series(\n",
        "                             data  = backtest_predictions,\n",
        "                             index = pd.date_range(\n",
        "                                        start = days_backtest[0],\n",
        "                                        end   = days_backtest[-1].replace(hour=23),\n",
        "                                        freq  = 'h'\n",
        "                                    )\n",
        "                           )\n",
        "    \n",
        "    return backtest_predictions"
      ],
      "execution_count": 123,
      "outputs": []
    },
    {
      "cell_type": "code",
      "metadata": {
        "id": "L7bXYG9jG1l1"
      },
      "source": [
        "def mean_absolute_percent_error(y_true, y_pred):\n",
        "  error = np.abs((y_true - y_pred) / y_true)\n",
        "  return error.mean()"
      ],
      "execution_count": 124,
      "outputs": []
    },
    {
      "cell_type": "code",
      "metadata": {
        "id": "ZcI-VeETGdGs"
      },
      "source": [
        "y_pred = backtest_predict_next_24h(\n",
        "  forecaster= forecaster,\n",
        "  y= df_val.Demanda,\n",
        "  hour_init_prediction= 11,\n",
        "  verbose= False\n",
        ")\n",
        "y_true = df_val.loc[predicciones.index, 'Demanda']\n",
        "\n",
        "error_MAE = mean_absolute_error( y_true=y_true, y_pred=y_pred)\n",
        "error_MAPE = mean_absolute_percent_error(y_true=y_true, y_pred=y_pred)\n",
        "\n",
        "print(f\"Error de backtest (MAE): {error_MAE}\")\n",
        "print(f\"Error de backtest (MAPE): {error_MAPE}\")"
      ],
      "execution_count": null,
      "outputs": []
    },
    {
      "cell_type": "code",
      "metadata": {
        "id": "VTHIRH8WICgr"
      },
      "source": [
        "def plot_semana_demanda(y_true, y_pred, semana):\n",
        "  fig, ax = plt.subplots()\n",
        "  y_true[y_true.index.week == semana]\\\n",
        "      .plot(ax=ax, lw=2, label='validación')\n",
        "  y_pred[y_pred.index.week == semana]\\\n",
        "      .plot(ax=ax, lw=2, label='predicción')\n",
        "  ax.set_title('Predicción vs demanda real')\n",
        "  ax.legend()\n",
        "  plt.show()"
      ],
      "execution_count": 136,
      "outputs": []
    },
    {
      "cell_type": "code",
      "metadata": {
        "id": "e6oWosa1dRbB"
      },
      "source": [
        "semana = 2\n",
        "plot_semana_demanda(y_true, y_pred, semana)"
      ],
      "execution_count": null,
      "outputs": []
    },
    {
      "cell_type": "code",
      "metadata": {
        "id": "P7A2241YdodS"
      },
      "source": [
        "def por_dia(y_true, y_pred, umbral, grafica=True):\n",
        "  APE = abs((y_true - y_pred) / y_pred)\n",
        "  diario = APE.groupby(APE.index.day_of_year).mean()\n",
        "  inaceptable = diario[diario > umbral]\n",
        "  if grafica:\n",
        "    y_true_diaria = y_true.groupby(y_true.index.day_of_year).mean()\n",
        "    y_pred_diaria = y_pred.groupby(y_pred.index.day_of_year).mean()\n",
        "    plt.plot(y_true_diaria.index, y_true_diaria.values, 'b')\n",
        "    plt.plot(y_pred_diaria.index, y_pred_diaria.values, 'c')\n",
        "    plt.plot(\n",
        "        inaceptable.index, \n",
        "        y_true_diaria[y_true_diaria.index.isin(inaceptable.index)],\n",
        "        '*r'\n",
        "    ) \n",
        "    plt.show()\n",
        "  return diario, inaceptable\n",
        "\n",
        "def por_hora(y_true, y_pred, umbral, grafica=True):\n",
        "  APE = abs((y_true - y_pred) / y_pred)\n",
        "  inaceptable = APE[APE > umbral]\n",
        "  if grafica:\n",
        "    plt.plot(y_true.index, y_true.values, 'b')\n",
        "    plt.plot(y_pred.index, y_pred.values, 'c')\n",
        "    plt.plot(\n",
        "        inaceptable.index, \n",
        "        y_true[y_true.index.isin(inaceptable.index)],\n",
        "        '*r'\n",
        "    ) \n",
        "    plt.show()\n",
        "  return APE, inaceptable"
      ],
      "execution_count": 145,
      "outputs": []
    },
    {
      "cell_type": "code",
      "metadata": {
        "id": "AP96gCshiJtd"
      },
      "source": [
        "mape_diario, inaceptable = por_dia(y_true, y_pred, 0.05)\n",
        "print(f\"Hubo {len(inaceptable)} días inaceptables\")\n",
        "\n",
        "ape, inaceptable = por_hora(y_true, y_pred, 0.05)\n",
        "print(f\"Hubo {len(inaceptable)} horas inaceptables\")"
      ],
      "execution_count": null,
      "outputs": []
    },
    {
      "cell_type": "code",
      "metadata": {
        "id": "Is_AEaihi9jA"
      },
      "source": [
        "semana = 2\n",
        "ape, inaceptable = por_hora(y_true[y_true.index.weekofyear==semana], \n",
        "                            y_pred[y_pred.index.weekofyear==semana], 0.05)"
      ],
      "execution_count": null,
      "outputs": []
    },
    {
      "cell_type": "markdown",
      "metadata": {
        "id": "dDQouHBRKD-0"
      },
      "source": [
        "## Agregando temperatura\n"
      ]
    },
    {
      "cell_type": "code",
      "metadata": {
        "id": "FXDiul8ajr6a"
      },
      "source": [
        "forecasterT = ForecasterAutoreg(\n",
        "    regressor= Ridge(alpha=0.0001, normalize=True),\n",
        "    lags= [1, 2, 3, 4, 23, 24, 25, 47, 48, 49, 165, 166, 167, 168, 169, 170, 171]\n",
        ")\n",
        "forecasterT.fit(y=df_train.Demanda, exog=df_train.Temperatura)\n",
        "\n",
        "y_pred = backtest_predict_next_24h(\n",
        "  forecaster= forecasterT,\n",
        "  y= df_val.Demanda,\n",
        "  exog=df_val.Temperatura,\n",
        "  hour_init_prediction= 11,\n",
        "  verbose= False\n",
        ")\n",
        "y_true = df_val.loc[y_pred.index, 'Demanda']\n",
        "\n",
        "error_MAE = mean_absolute_error( y_true=y_true, y_pred=y_pred)\n",
        "error_MAPE = mean_absolute_percent_error(y_true=y_true, y_pred=y_pred)\n",
        "\n",
        "print(f\"Error de backtest (MAE): {error_MAE}\")\n",
        "print(f\"Error de backtest (MAPE): {error_MAPE}\")"
      ],
      "execution_count": null,
      "outputs": []
    },
    {
      "cell_type": "code",
      "metadata": {
        "id": "N9lvozwWlCZU"
      },
      "source": [
        "mape_diario, inaceptable = por_dia(y_true, y_pred, 0.05)\n",
        "print(f\"Hubo {len(inaceptable)} días inaceptables\")\n",
        "\n",
        "ape, inaceptable = por_hora(y_true, y_pred, 0.05)\n",
        "print(f\"Hubo {len(inaceptable)} horas inaceptables\")"
      ],
      "execution_count": null,
      "outputs": []
    },
    {
      "cell_type": "markdown",
      "metadata": {
        "id": "f5XBiemrjsi1"
      },
      "source": [
        "# Agregando otras variables exógenas"
      ]
    },
    {
      "cell_type": "code",
      "metadata": {
        "id": "wN6aIkOfqQkP"
      },
      "source": [
        "import holidays\n",
        "\n",
        "festivos = list(\n",
        "    holidays.MEX(years=[\n",
        "        2008, 2009, 2010, 2011, 2012, 2013, 2014, 2015, 2016, \n",
        "        2017, 2018, 2019, 2020, 2021]).keys()\n",
        ")\n",
        "df['Holiday'] = 1\n",
        "df.Holiday.where(df.index.isin(festivos), 0, inplace=True)\n",
        "\n",
        "df['Semana'] = df.index.weekofyear\n",
        "df['Hora'] = df.index.hour\n",
        "df['Dia'] = df.index.weekday\n",
        "df['Mes'] = df.index.month\n",
        "\n",
        "\n",
        "df_train = df[df.index.year < 2020]\n",
        "df_val = df[df.index.year == 2021]"
      ],
      "execution_count": null,
      "outputs": []
    },
    {
      "cell_type": "code",
      "metadata": {
        "id": "oW2lk0X5nKXN"
      },
      "source": [
        "exogenas = ['Temperatura', 'Dia']\n",
        "\n",
        "forecasterX = ForecasterAutoreg(\n",
        "    regressor= Ridge(alpha=0.0001, normalize=True),\n",
        "    lags= [1, 2, 3, 4, 23, 24, 25, 47, 48, 49, 165, 166, 167, 168, 169, 170, 171]\n",
        ")\n",
        "forecasterX.fit(y=df_train.Demanda, exog=df_train[exogenas].values)\n",
        "\n",
        "y_pred = backtest_predict_next_24h(\n",
        "  forecaster= forecasterX,\n",
        "  y= df_val.Demanda,\n",
        "  exog=df_val[exogenas],\n",
        "  hour_init_prediction= 11,\n",
        "  verbose= False\n",
        ")\n",
        "y_true = df_val.loc[y_pred.index, 'Demanda']\n",
        "\n",
        "error_MAE = mean_absolute_error( y_true=y_true, y_pred=y_pred)\n",
        "error_MAPE = mean_absolute_percent_error(y_true=y_true, y_pred=y_pred)\n",
        "\n",
        "print(f\"Error de backtest (MAE): {error_MAE}\")\n",
        "print(f\"Error de backtest (MAPE): {error_MAPE}\")"
      ],
      "execution_count": null,
      "outputs": []
    },
    {
      "cell_type": "code",
      "metadata": {
        "id": "XY5wkzf7ngEs"
      },
      "source": [
        "mape_diario, inaceptable = por_dia(y_true, y_pred, 0.05)\n",
        "print(f\"Hubo {len(inaceptable)} días inaceptables\")\n",
        "\n",
        "ape, inaceptable = por_hora(y_true, y_pred, 0.05)\n",
        "print(f\"Hubo {len(inaceptable)} horas inaceptables\")"
      ],
      "execution_count": null,
      "outputs": []
    },
    {
      "cell_type": "markdown",
      "metadata": {
        "id": "m3odwCO7s1ed"
      },
      "source": [
        "## Usando variables *dummies*"
      ]
    },
    {
      "cell_type": "code",
      "metadata": {
        "id": "qaaTSJUbQJHb"
      },
      "source": [
        "# One hot encoding de las variables mes, hora y dia\n",
        "df_dummies=pd.get_dummies(df, columns=['Hora', 'Dia', 'Mes', 'Semana'])\n",
        "df_train = df_dummies[df_dummies.index.year < 2020]\n",
        "df_val = df_dummies[df_dummies.index.year > 2020]"
      ],
      "execution_count": 206,
      "outputs": []
    },
    {
      "cell_type": "code",
      "metadata": {
        "id": "pLgBvwa-Q4Tz"
      },
      "source": [
        "exogenas = [column for column in df_dummies.columns \n",
        "            if column.startswith(('Dia', 'Temperatura'))]\n",
        "\n",
        "forecasterX = ForecasterAutoreg(\n",
        "    regressor= Ridge(alpha=0.0001, normalize=True),\n",
        "    lags= [1, 2, 3, 4, 23, 24, 25, 47, 48, 49, 165, 166, 167, 168, 169, 170, 171]\n",
        ")\n",
        "forecasterX.fit(y=df_train.Demanda, exog=df_train[exogenas].values)\n",
        "\n",
        "y_pred = backtest_predict_next_24h(\n",
        "  forecaster= forecasterX,\n",
        "  y= df_val.Demanda,\n",
        "  exog=df_val[exogenas],\n",
        "  hour_init_prediction= 11,\n",
        "  verbose= False\n",
        ")\n",
        "y_true = df_val.loc[y_pred.index, 'Demanda']\n",
        "\n",
        "error_MAE = mean_absolute_error( y_true=y_true, y_pred=y_pred)\n",
        "error_MAPE = mean_absolute_percent_error(y_true=y_true, y_pred=y_pred)\n",
        "\n",
        "print(f\"Error de backtest (MAE): {error_MAE}\")\n",
        "print(f\"Error de backtest (MAPE): {error_MAPE}\")\n"
      ],
      "execution_count": null,
      "outputs": []
    },
    {
      "cell_type": "code",
      "metadata": {
        "id": "-Qzr_yqbufNn"
      },
      "source": [
        "mape_diario, inaceptable = por_dia(y_true, y_pred, 0.05)\n",
        "print(f\"Hubo {len(inaceptable)} días inaceptables\")\n",
        "\n",
        "ape, inaceptable = por_hora(y_true, y_pred, 0.05)\n",
        "print(f\"Hubo {len(inaceptable)} horas inaceptables\")"
      ],
      "execution_count": null,
      "outputs": []
    }
  ]
}