{
  "nbformat": 4,
  "nbformat_minor": 0,
  "metadata": {
    "colab": {
      "name": "taller_solar.ipynb",
      "provenance": [],
      "collapsed_sections": []
    },
    "kernelspec": {
      "name": "python3",
      "display_name": "Python 3"
    },
    "language_info": {
      "name": "python"
    }
  },
  "cells": [
    {
      "cell_type": "markdown",
      "metadata": {
        "id": "V-v7J49QY5ur"
      },
      "source": [
        "<center>\n",
        "<p><img src=\"https://www.gob.mx/cms/uploads/image/file/179499/outstanding_quienes-somos.jpg\" width=\"300\">\n",
        "</p>\n",
        "\n",
        "\n",
        "\n",
        "# Curso *Machine Learning con uso de pandas, scikit learn y libretas jupyter*\n",
        "\n",
        "# Pequeño taller Generación de energía solar \n",
        "\n",
        "\n",
        "<p> Julio Waissman Vilanova </p>\n",
        "<p>\n",
        "<img src=\"https://identidadbuho.unison.mx/wp-content/uploads/2019/06/letragrama-cmyk-72.jpg\" width=\"80\">\n",
        "</p>\n",
        "</center>\n",
        "\n"
      ]
    },
    {
      "cell_type": "code",
      "metadata": {
        "id": "b2PI0UqLZqTD"
      },
      "source": [
        "import numpy as np\n",
        "import pandas as pd\n",
        "import matplotlib.pyplot as plt\n",
        "\n",
        "plt.style.use('ggplot')"
      ],
      "execution_count": 12,
      "outputs": []
    },
    {
      "cell_type": "markdown",
      "metadata": {
        "id": "xSGuY41Ib6p2"
      },
      "source": [
        "## Cargando los datos"
      ]
    },
    {
      "cell_type": "code",
      "metadata": {
        "id": "MZowTt93Y27d"
      },
      "source": [
        "url = \"https://github.com/juliowaissman/curso-ml-cenace/raw/main/datos/Dataset_GeneracionFV.xlsx\"\n",
        "df = pd.read_excel(url, sheet_name=1)\n",
        "df.info()"
      ],
      "execution_count": null,
      "outputs": []
    },
    {
      "cell_type": "code",
      "metadata": {
        "id": "XEYOsGPiaDRI"
      },
      "source": [
        "df.index = df.Fecha\n",
        "df['Hora'] = df.index.hour\n",
        "df['Dia'] = df.index.dayofweek\n",
        "df['Mes'] = df.index.month\n",
        "df"
      ],
      "execution_count": null,
      "outputs": []
    },
    {
      "cell_type": "markdown",
      "metadata": {
        "id": "pyKLNF2pb2B-"
      },
      "source": [
        "## Análisis exploratorio de datos\n",
        "\n",
        "\n",
        "1. ¿Cual es la radiación y generación promedio por hora?\n",
        "2. ¿Cual es la radiación y generación promedio por mes?\n",
        "3. ¿Existe una correlación entre radiación y generación? ¿Es lineal?\n",
        "4. ¿A que horas inicia la generación por mes?"
      ]
    },
    {
      "cell_type": "code",
      "metadata": {
        "id": "07mJ53APcVRI"
      },
      "source": [
        "df[df.Mes == 2].plot.scatter(\n",
        "    x='Generacion_FV_MW',\n",
        "    y='Radiacion_FV_W/m2',\n",
        "    #s='Hora',\n",
        "    c='Hora',\n",
        "    colormap='jet',\n",
        "    figsize=(15,7)\n",
        ")"
      ],
      "execution_count": null,
      "outputs": []
    },
    {
      "cell_type": "code",
      "metadata": {
        "id": "Y31tPtdgcPPa"
      },
      "source": [
        "# Agrega cuantas celdas y comentarios consideres necesarios"
      ],
      "execution_count": 27,
      "outputs": []
    },
    {
      "cell_type": "markdown",
      "metadata": {
        "id": "7Mg6xOrgfjsY"
      },
      "source": [
        "## Predicción de la generación usando series de tiempo\n",
        "\n",
        "Para este problema, si se utiliza `skforecat` no se puede utilizar la medición de la radiación, ya que no es la radiación pronosticada, si no medida. \n",
        "\n",
        "1, ¿Es posible hacer una buena predicción sin variables exógenas? \n",
        "2. ¿Cambia mucho si se tiene la información de la hora y el mes en el pronóstico? \n",
        "3. ¿Hay mejoras si se usa un método no lineal de predicción como un bosque aleatorio o un SVR con kernel gaussiano?\n",
        "\n"
      ]
    },
    {
      "cell_type": "code",
      "metadata": {
        "id": "Dr9r7NJOgpRA"
      },
      "source": [
        "# Agrega cuantas celdas creas necesarias"
      ],
      "execution_count": null,
      "outputs": []
    }
  ]
}