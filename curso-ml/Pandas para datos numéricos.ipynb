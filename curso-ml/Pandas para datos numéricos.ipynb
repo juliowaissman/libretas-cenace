{
 "cells": [
  {
   "cell_type": "markdown",
   "id": "7e603097-0be9-47d4-ae3e-99bec3c6add1",
   "metadata": {},
   "source": [
    "<center>\n",
    "<p><img src=\"https://www.gob.mx/cms/uploads/image/file/179499/outstanding_quienes-somos.jpg\" width=\"300\">\n",
    "</p>\n",
    "\n",
    "\n",
    "\n",
    "# Curso *Machine Learning con uso de pandas, scikit learn y libretas jupyter*\n",
    "\n",
    "# Uso de pandas en datos numéricos y temporales\n",
    "\n",
    "\n",
    "<p> Julio Waissman Vilanova </p>\n",
    "<p>\n",
    "<img src=\"https://identidadbuho.unison.mx/wp-content/uploads/2019/06/letragrama-cmyk-72.jpg\" width=\"80\">\n",
    "</p>\n",
    "</center>\n",
    "\n"
   ]
  },
  {
   "cell_type": "code",
   "execution_count": null,
   "id": "df602ccb-2447-4bb4-bcf1-c8b6c87f004e",
   "metadata": {},
   "outputs": [],
   "source": [
    "import pandas as pd"
   ]
  },
  {
   "cell_type": "markdown",
   "id": "62ead992-04b0-400d-9853-5de908cfb455",
   "metadata": {},
   "source": [
    "## Leyendo y revisando los datos\n",
    "\n",
    "Para ejemplificar el uso de columnas numéricas, horas y fechas vamos a utilizar un conjunto de datos que puso generosamente a nuestra disposición [Hector Alberto Gutierrez Ibarra](hector.gutierrez@cenace.gob.mx) de la gerencia noroeste.\n",
    "\n",
    "Vamos primero pegandole un ojo a los datos:"
   ]
  },
  {
   "cell_type": "code",
   "execution_count": null,
   "id": "66365b3b-6cd3-4af6-a671-ac1556eb2ffc",
   "metadata": {},
   "outputs": [],
   "source": [
    "df = pd.read_csv(\"datos/caso_zc_hmo.csv.zip\")\n",
    "df"
   ]
  },
  {
   "cell_type": "code",
   "execution_count": null,
   "id": "4cffb6ca-7579-4373-9406-99639937e1bb",
   "metadata": {},
   "outputs": [],
   "source": [
    "df.info()"
   ]
  },
  {
   "cell_type": "markdown",
   "id": "06f5b599-c98b-40de-b26a-7cda66dad9e0",
   "metadata": {},
   "source": [
    "Lo primero que tenemos que hacer es convertir la variable `Date`en un formato de fechas. En este caso es muy fácil porque la tabla está muy bien formateada, pero suele no ser tan sencillo."
   ]
  },
  {
   "cell_type": "code",
   "execution_count": null,
   "id": "aa195846-1fa0-4ad3-a109-57063a50a6f7",
   "metadata": {},
   "outputs": [],
   "source": [
    "df['Date'] = pd.to_datetime(df.Date, format=\"%d/%m/%Y %H:%M\")\n",
    "\n",
    "df"
   ]
  },
  {
   "cell_type": "code",
   "execution_count": null,
   "id": "3d754d41-1154-4718-8930-d3bb9b6faa4e",
   "metadata": {},
   "outputs": [],
   "source": [
    "df.info()"
   ]
  },
  {
   "cell_type": "code",
   "execution_count": null,
   "id": "5f5e3e36-0816-4db3-a65f-60f822223f91",
   "metadata": {},
   "outputs": [],
   "source": [
    "df.describe()"
   ]
  },
  {
   "cell_type": "markdown",
   "id": "426dfc1f-a785-48c1-a196-1523513c1284",
   "metadata": {},
   "source": [
    "¿Cuantos días tenemos en esta base? ¿Cual es el primer día y el último?"
   ]
  },
  {
   "cell_type": "code",
   "execution_count": null,
   "id": "39d1522c-205a-42f8-9678-a06ab76929bc",
   "metadata": {},
   "outputs": [],
   "source": [
    "print(f\"Inicia el {df.Date.min()} y termina el {df.Date.max()}\")\n",
    "print(f\"Con una duración de {df.Date.max() - df.Date.min()}\")"
   ]
  },
  {
   "cell_type": "markdown",
   "id": "7ed284dc-05b7-4876-92e4-5d5c8b1ddd68",
   "metadata": {},
   "source": [
    "Hay que tener cuidado porque hay dos tipos fundamentales de formatos de tiempo, y suelen no mesclarse bien en algunas operaciones."
   ]
  },
  {
   "cell_type": "code",
   "execution_count": null,
   "id": "8632ea22-30e4-4e12-9694-be1e1cdca773",
   "metadata": {},
   "outputs": [],
   "source": [
    "type(df.Date.min()), type(df.Date.max() - df.Date.min())"
   ]
  },
  {
   "cell_type": "markdown",
   "id": "6e869ecf-337e-49e6-a115-6358a5891f7e",
   "metadata": {},
   "source": [
    "Para facilitar el uso de pandas, vamos a pasar la fecha como el indice del dataframe"
   ]
  },
  {
   "cell_type": "code",
   "execution_count": null,
   "id": "296bd8da-35a6-4a5e-9b34-f96d3004b695",
   "metadata": {},
   "outputs": [],
   "source": [
    "df.index = df.Date\n",
    "df.drop(columns='Date', inplace=True)\n",
    "df"
   ]
  },
  {
   "cell_type": "markdown",
   "id": "46ea00b8-7323-4408-af2d-fbb6d1eaa487",
   "metadata": {},
   "source": [
    "## Gráficas rápidas y furiosas desde pandas\n",
    "\n",
    "Pandas trae incluidas facilidades para la graficación con el fin de hacer análisis rápidos de nuestras variables, así que vamos aprovechando y haciendo una inspección visual"
   ]
  },
  {
   "cell_type": "code",
   "execution_count": null,
   "id": "9375040d-2a96-40ce-8642-9fb0f56e11a5",
   "metadata": {},
   "outputs": [],
   "source": [
    "ax = df.Demand.plot()"
   ]
  },
  {
   "cell_type": "code",
   "execution_count": null,
   "id": "a7069a52-ad97-4db3-b7f1-03a301e010c0",
   "metadata": {},
   "outputs": [],
   "source": [
    "ax = df.plot(figsize=(12, 20), subplots=True)"
   ]
  },
  {
   "cell_type": "code",
   "execution_count": null,
   "id": "167e1000-f741-4692-a1e7-54b4b2e1cd0b",
   "metadata": {},
   "outputs": [],
   "source": [
    "ax = df.WindSpeed.plot.box()"
   ]
  },
  {
   "cell_type": "code",
   "execution_count": null,
   "id": "e58985e7-a4f1-4227-bb02-ac217dd03919",
   "metadata": {},
   "outputs": [],
   "source": [
    "ax = df.plot.scatter(\n",
    "    x='Humidity',\n",
    "    y='Temperature',\n",
    "    c='Demand',\n",
    "    figsize=(12,8)\n",
    ")"
   ]
  },
  {
   "cell_type": "markdown",
   "id": "26f6e479-6683-4fa1-b2cf-b9084c3d7ea5",
   "metadata": {},
   "source": [
    "# Generando nuevas variables a partir de las variables conocidas\n",
    "\n",
    "Generar nuevas variables es relativamente simple, pero hay algunas cosas que son diferentes con numpy y por las cuales hay que tener cuidado."
   ]
  },
  {
   "cell_type": "code",
   "execution_count": null,
   "id": "30f5ee16-115a-49b6-a240-e6ca3dcd56fc",
   "metadata": {},
   "outputs": [],
   "source": [
    "df['farenheit'] = (df.Temperature * 9/5) + 32"
   ]
  },
  {
   "cell_type": "code",
   "execution_count": null,
   "id": "72f495e4-df82-4412-b44d-a5b73ae240a2",
   "metadata": {},
   "outputs": [],
   "source": [
    "df['refri'] = 0\n",
    "df['refri'] = df.refri.where(df.Temperature < 30, 1)\n",
    "df.describe()"
   ]
  },
  {
   "cell_type": "code",
   "execution_count": null,
   "id": "dc6fc4ce-f49d-48ef-adfd-d92e4e931080",
   "metadata": {},
   "outputs": [],
   "source": [
    "df['DiaSemana'] = df.index.day_name(locale='es_ES')\n",
    "df"
   ]
  },
  {
   "cell_type": "code",
   "execution_count": null,
   "id": "842613e9-9f4a-4187-997c-acb9b601ab7c",
   "metadata": {},
   "outputs": [],
   "source": [
    "df.rename(\n",
    "    columns={\n",
    "        'Demand': 'Demanda',\n",
    "        'Temperature': 'Temperatura',\n",
    "        'PrecipIntensity': 'Precipitación',\n",
    "        'Humidity': 'Humedad',\n",
    "        'WinSpeed': 'VelocidadViento',\n",
    "    },\n",
    "    inplace=True\n",
    ")\n",
    "df"
   ]
  },
  {
   "cell_type": "markdown",
   "id": "f8498c27-20bc-40b8-944c-8f57edae2a69",
   "metadata": {},
   "source": [
    "## Analizando con regrupamientos\n",
    "\n",
    "En particular, es interesante poder hacer algun análisis exploratorio utilizando las facilidades que da el uso del manejo de la información temporal que ofrece pandas. En espacial cuando se combina con `groupby` y diferentes funciones de agregación.\n",
    "\n",
    "Vamos a empezar por ver la demanda promedio por día de la semana:"
   ]
  },
  {
   "cell_type": "code",
   "execution_count": null,
   "id": "6c5b48b8-0b39-4fad-b422-c16251a239c5",
   "metadata": {},
   "outputs": [],
   "source": [
    "ax = df[['Demanda']].groupby(df.DiaSemana).boxplot(subplots=False, rot=90)"
   ]
  },
  {
   "cell_type": "code",
   "execution_count": null,
   "id": "4bec34ff-cb8b-4536-ab64-a5845a97d7d2",
   "metadata": {},
   "outputs": [],
   "source": [
    "df_semana = df.groupby('DiaSemana').agg(\n",
    "    {\n",
    "        'Demanda': ['min', 'max', 'mean', 'median', 'std', 'mad']\n",
    "    }\n",
    ")\n",
    "df_semana"
   ]
  },
  {
   "cell_type": "markdown",
   "id": "54ccf579-26a5-40bc-a815-b64008efa408",
   "metadata": {},
   "source": [
    "Ahora vamos a ver que pasa en forma mensual"
   ]
  },
  {
   "cell_type": "code",
   "execution_count": null,
   "id": "e4b1fec3-981c-445f-9d53-a26747e36ff8",
   "metadata": {},
   "outputs": [],
   "source": [
    "ax = df[['Demanda']].groupby(df.index.month).boxplot(subplots=False, rot=90, figsize=(12, 7))"
   ]
  },
  {
   "cell_type": "code",
   "execution_count": null,
   "id": "566ce2fc-13df-4bf7-995b-9121297577f5",
   "metadata": {},
   "outputs": [],
   "source": [
    "ax = df[['Temperatura']].groupby(df.index.month).boxplot(subplots=False, rot=90, figsize=(12, 7))"
   ]
  },
  {
   "cell_type": "markdown",
   "id": "c3b62e2b-b8b4-43a9-a119-b81605d46783",
   "metadata": {},
   "source": [
    "O inclusive por hora del día"
   ]
  },
  {
   "cell_type": "code",
   "execution_count": null,
   "id": "3c68c268-92c8-4e3f-9b5d-08af3f3399f5",
   "metadata": {},
   "outputs": [],
   "source": [
    "ax = df[['Demanda']].groupby(df.index.hour).boxplot(subplots=False, rot=90, figsize=(12, 7))"
   ]
  },
  {
   "cell_type": "code",
   "execution_count": null,
   "id": "b473aa1e-f3c1-49b6-a33c-e3c247998bd8",
   "metadata": {},
   "outputs": [],
   "source": [
    "df_hora = df[['Demanda', 'Temperatura']].groupby([df.index.hour, df.index.month_name()]).mean().unstack()\n",
    "df_hora"
   ]
  },
  {
   "cell_type": "code",
   "execution_count": null,
   "id": "ae30808d-cead-4525-a6bf-9b897a211659",
   "metadata": {},
   "outputs": [],
   "source": [
    "ax = df_hora.Demanda.plot(style='o', figsize=(15,7))"
   ]
  },
  {
   "cell_type": "code",
   "execution_count": null,
   "id": "4c9f6694-e774-493e-b6af-97f61f8e3b89",
   "metadata": {},
   "outputs": [],
   "source": [
    "ax = df_hora.Temperatura.plot(style='o', figsize=(15,7))"
   ]
  }
 ],
 "metadata": {
  "kernelspec": {
   "display_name": "Python 3 (ipykernel)",
   "language": "python",
   "name": "python3"
  },
  "language_info": {
   "codemirror_mode": {
    "name": "ipython",
    "version": 3
   },
   "file_extension": ".py",
   "mimetype": "text/x-python",
   "name": "python",
   "nbconvert_exporter": "python",
   "pygments_lexer": "ipython3",
   "version": "3.8.3"
  }
 },
 "nbformat": 4,
 "nbformat_minor": 5
}
