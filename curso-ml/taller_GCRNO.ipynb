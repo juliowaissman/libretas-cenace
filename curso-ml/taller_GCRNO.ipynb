{
  "cells": [
    {
      "cell_type": "markdown",
      "metadata": {
        "id": "bob3WviJhK4q"
      },
      "source": [
        "<center>\n",
        "<p><img src=\"https://www.gob.mx/cms/uploads/image/file/179499/outstanding_quienes-somos.jpg\" width=\"300\">\n",
        "</p>\n",
        "\n",
        "\n",
        "\n",
        "# Curso *Machine Learning con uso de pandas, scikit learn y libretas jupyter*\n",
        "\n",
        "# Pequeño taller datos diarios \n",
        "\n",
        "\n",
        "<p> Julio Waissman Vilanova </p>\n",
        "<p>\n",
        "<img src=\"https://identidadbuho.unison.mx/wp-content/uploads/2019/06/letragrama-cmyk-72.jpg\" width=\"80\">\n",
        "</p>\n",
        "</center>\n"
      ]
    },
    {
      "cell_type": "code",
      "execution_count": null,
      "metadata": {
        "id": "pDIANd1BhH6R"
      },
      "outputs": [],
      "source": [
        "import numpy as np\n",
        "import pandas as pd\n",
        "import matplotlib.pyplot as plt\n",
        "\n",
        "plt.style.use('ggplot')\n",
        "plt.rcParams['figure.figsize'] = (15,7)"
      ]
    },
    {
      "cell_type": "markdown",
      "metadata": {
        "id": "Z3dKuTWShjLF"
      },
      "source": [
        "# Adquiriendo los datos"
      ]
    },
    {
      "cell_type": "code",
      "execution_count": null,
      "metadata": {
        "colab": {
          "base_uri": "https://localhost:8080/"
        },
        "id": "AF_RDM1RhmBc",
        "outputId": "9deba365-0067-4584-ac07-c838b54b593d"
      },
      "outputs": [],
      "source": [
        "url = \"https://github.com/juliowaissman/curso-ml-cenace/raw/main/datos/Dataset_GCRNO_05052021.xlsx\"\n",
        "\n",
        "df = pd.read_excel(url, sheet_name='Datos')\n",
        "df_dic = pd.read_excel(url, sheet_name='Descripción de Variables')\n",
        "\n",
        "df.info()"
      ]
    },
    {
      "cell_type": "code",
      "execution_count": null,
      "metadata": {
        "id": "ocQH4M8KiW7Z"
      },
      "outputs": [],
      "source": [
        "df"
      ]
    },
    {
      "cell_type": "code",
      "execution_count": null,
      "metadata": {
        "id": "-xtwGQkriJKb"
      },
      "outputs": [],
      "source": [
        "df_dic"
      ]
    },
    {
      "cell_type": "markdown",
      "metadata": {
        "id": "5hnYHLe3kUZx"
      },
      "source": [
        "Como vemos, se tiene la demanda por 24 horas, pero se encuentra en una misma columna. Si quisieramos utilizarlo para hacer el forecasting de la demanda integrada en forma horaria, necesitariamos cambiar esas columnas a instancias, lo que se puede hacer en pandas mas o menos fácil."
      ]
    },
    {
      "cell_type": "code",
      "execution_count": null,
      "metadata": {
        "colab": {
          "base_uri": "https://localhost:8080/",
          "height": 465
        },
        "id": "I78eLKXJkomM",
        "outputId": "73ee7eb8-f9bf-47a5-c147-c8302bfd516e"
      },
      "outputs": [],
      "source": [
        "df_horario = df.melt(\n",
        "    id_vars= ['FECHA'],\n",
        "    value_vars= [f'DEM_GCRNO_H{i}' for i in range(24)],\n",
        "    var_name=\"Hora\",\n",
        "    value_name=\"Demanda\"\n",
        ").replace(\n",
        "    {f'DEM_GCRNO_H{i}': i for i in range(24)}\n",
        ")\n",
        "\n",
        "df_horario.index = df_horario.FECHA + pd.to_timedelta(df_horario.Hora, unit='h')\n",
        "df_horario.sort_index(inplace=True)\n",
        "df_horario.drop(columns=['FECHA', 'Hora'], inplace=True)\n",
        "\n",
        "df_horario.plot(figsize=(15, 7))"
      ]
    },
    {
      "cell_type": "markdown",
      "metadata": {
        "id": "fgF6A2qirqUe"
      },
      "source": [
        "# Análisis exploratorio de datos\n",
        "\n",
        "1. ¿Cuales son las variables que interesan en un análisis diarios?\n",
        "2. ¿Como se comporta la demanda máxima se acuerdo al mes?\n",
        "3. ¿Que variación se tiene en demanda máxima y mínima por día de la semana?\n",
        "4. ¿Que variaciones hay en el consumo integrado por hora?\n",
        "\n"
      ]
    },
    {
      "cell_type": "code",
      "execution_count": null,
      "metadata": {
        "id": "KJ0COlmatjBy"
      },
      "outputs": [],
      "source": [
        "# Agrega cuantas celdas creas necesarias"
      ]
    },
    {
      "cell_type": "markdown",
      "metadata": {
        "id": "N9K2Fl-GsfN0"
      },
      "source": [
        "## Forecasting\n",
        "\n",
        "1. Definir un problema de *forecasting*\n",
        "2. Probar con el uso de *skforcast*\n",
        "3. Ajuster primero un modelo sencillo (`Ridge`) y luego ver que pasa con un modelo más complejo.\n"
      ]
    },
    {
      "cell_type": "code",
      "execution_count": null,
      "metadata": {
        "id": "gvOqY0ECtnpH"
      },
      "outputs": [],
      "source": [
        "# Agrega cuantas celdas consideres necesarias"
      ]
    },
    {
      "cell_type": "markdown",
      "metadata": {
        "id": "uOaVnFfVHjro"
      },
      "source": [
        "## Una probadita a Prophet en rápido y furioso"
      ]
    },
    {
      "cell_type": "code",
      "execution_count": null,
      "metadata": {
        "id": "n8dakv-XOa8B"
      },
      "outputs": [],
      "source": [
        "!pip install fbprophet"
      ]
    },
    {
      "cell_type": "code",
      "execution_count": null,
      "metadata": {
        "id": "QCvbStXBOjhP"
      },
      "outputs": [],
      "source": [
        "from fbprophet import Prophet\n",
        "\n",
        "df_prophet = pd.DataFrame(\n",
        "    {\n",
        "        'ds': df_horario.index,\n",
        "        'y': df_horario.Demanda\n",
        "    }\n",
        ")\n",
        "\n",
        "modelo = Prophet().fit(df_prophet[df_prophet.ds.dt.year < 2021])"
      ]
    },
    {
      "cell_type": "code",
      "execution_count": null,
      "metadata": {
        "id": "MbnvaLvQbaj3"
      },
      "outputs": [],
      "source": [
        "def stan_init(m):\n",
        "    res = {}\n",
        "    for pname in ['k', 'm', 'sigma_obs']:\n",
        "        res[pname] = m.params[pname][0][0]\n",
        "    for pname in ['delta', 'beta']:\n",
        "        res[pname] = m.params[pname][0]\n",
        "    return res"
      ]
    },
    {
      "cell_type": "code",
      "execution_count": null,
      "metadata": {
        "id": "jsnzt3IQheSF"
      },
      "outputs": [],
      "source": [
        "future = modelo.make_future_dataframe(24, freq='h', include_history=False)\n",
        "forecast = modelo.predict(future)\n",
        "\n",
        "while forecast.ds.max() < df_prophet.ds.max():\n",
        "  modelo = Prophet().fit(df_prophet[df_prophet.ds <= future.ds.max()], init=stan_init(modelo))\n",
        "  future = modelo.make_future_dataframe(24, freq='h', include_history=False)\n",
        "  forecast2 = modelo.predict(future)\n",
        "  forecast = pd.concat([forecast, forecast2])\n",
        "  "
      ]
    },
    {
      "cell_type": "code",
      "execution_count": null,
      "metadata": {
        "colab": {
          "base_uri": "https://localhost:8080/",
          "height": 448
        },
        "id": "d5y1GYaBos92",
        "outputId": "98e3063f-9340-4f9d-b6f1-35d59fdb1316"
      },
      "outputs": [],
      "source": [
        "df_val = df_prophet[df_prophet.ds.dt.year==2021]\n",
        "\n",
        "plt.plot(forecast.ds, forecast.yhat, label='y_pred')\n",
        "plt.plot(df_val.ds, df_val.y, label='y_true')\n",
        "plt.legend()\n",
        "plt.show()"
      ]
    },
    {
      "cell_type": "code",
      "execution_count": null,
      "metadata": {
        "colab": {
          "base_uri": "https://localhost:8080/",
          "height": 713
        },
        "id": "rkLZad2Xx8ua",
        "outputId": "cca853a9-7489-4477-e983-19a354f709d0"
      },
      "outputs": [],
      "source": [
        "semana = 10\n",
        "\n",
        "plt.plot(\n",
        "    forecast.ds[forecast.ds.dt.weekofyear == semana], \n",
        "    forecast.yhat[forecast.ds.dt.weekofyear == semana], \n",
        "    label='y_pred')\n",
        "plt.plot(\n",
        "    df_val.ds[df_val.ds.dt.weekofyear == semana], \n",
        "    df_val.y[df_val.ds.dt.weekofyear == semana], \n",
        "    label='y_true')\n",
        "plt.legend()\n",
        "plt.show()"
      ]
    }
  ],
  "metadata": {
    "colab": {
      "name": "taller_GCRNO.ipynb",
      "provenance": []
    },
    "kernelspec": {
      "display_name": "Python 3",
      "name": "python3"
    },
    "language_info": {
      "name": "python"
    }
  },
  "nbformat": 4,
  "nbformat_minor": 0
}
