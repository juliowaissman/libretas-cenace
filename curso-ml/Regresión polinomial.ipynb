{
 "cells": [
  {
   "cell_type": "markdown",
   "id": "a50c45e9-fab7-41c2-9761-94fd25422c20",
   "metadata": {},
   "source": [
    "<center>\n",
    "<p><img src=\"https://www.gob.mx/cms/uploads/image/file/179499/outstanding_quienes-somos.jpg\" width=\"300\">\n",
    "</p>\n",
    "\n",
    "\n",
    "\n",
    "# Curso *Machine Learning con uso de pandas, scikit learn y libretas jupyter*\n",
    "\n",
    "# Uso de scikit-learn para ajuste polinomial\n",
    "\n",
    "\n",
    "<p> Julio Waissman Vilanova </p>\n",
    "<p>\n",
    "<img src=\"https://identidadbuho.unison.mx/wp-content/uploads/2019/06/letragrama-cmyk-72.jpg\" width=\"80\">\n",
    "</p>\n",
    "</center>\n",
    "\n",
    "\n"
   ]
  },
  {
   "cell_type": "markdown",
   "id": "3fc62b93-bfa4-4028-85fc-d7589ce3cf32",
   "metadata": {},
   "source": [
    "Esta es una versión explicada y por pasos del [ejemplo de interpolación polinomial](https://scikit-learn.org/stable/auto_examples/linear_model/plot_polynomial_interpolation.html#sphx-glr-auto-examples-linear-model-plot-polynomial-interpolation-py) de *scikit-learn*.\n",
    "\n",
    "Este es un ejemplo de como generar atributos no lineales, para el entrenamiento de un modelo lineal de aprendizaje. Esta es la base del desarrollo de diferentes métodos basados en la transformación de atributos."
   ]
  },
  {
   "cell_type": "code",
   "execution_count": null,
   "id": "59525c42-6ae8-4b34-a2c7-12e82110a297",
   "metadata": {},
   "outputs": [],
   "source": [
    "import numpy as np\n",
    "import matplotlib.pyplot as plt"
   ]
  },
  {
   "cell_type": "markdown",
   "id": "443af523-d5e8-4784-b701-c9a53e2849c6",
   "metadata": {},
   "source": [
    "Como problema, vamos a generar datos en forma artificial a partir de un procesos que nosotros vamos a hacer. El proceso real es:\n",
    "\n",
    "$$\n",
    "y = x \\sin(x)\n",
    "$$"
   ]
  },
  {
   "cell_type": "code",
   "execution_count": null,
   "id": "73697f25-645f-4a80-8a04-62a2258bd660",
   "metadata": {},
   "outputs": [],
   "source": [
    "def f(x):\n",
    "    \"\"\" Función a tratar de obtener\"\"\"\n",
    "    return x * np.sin(x)"
   ]
  },
  {
   "cell_type": "markdown",
   "id": "7faaa740-a82c-49aa-8f5b-d479a9070fee",
   "metadata": {},
   "source": [
    "Vamos a generar 100 puntos en $x$ para graficar y estimar a partir de los modelos entrenados.\n",
    "\n",
    "Para el aprendizaje, se va a generar 100 valores en x, equidistantes, y vamos a seleccionar 20 en forma aleatoria. Los valores de $y$ para entrenamiento se van a calular directamente de la función real, sin ruido o errores de medición."
   ]
  },
  {
   "cell_type": "code",
   "execution_count": null,
   "id": "78e4c351-c3fd-43b1-89a2-3aa143c5398d",
   "metadata": {},
   "outputs": [],
   "source": [
    "# Los valores para graficar la función real\n",
    "x_plot = np.linspace(0, 10, 100)\n",
    "\n",
    "# Generamos 100 puntos equidistantes\n",
    "x = np.linspace(0, 10, 100)\n",
    "\n",
    "# Los movemos aleatoriamente\n",
    "rng = np.random.RandomState(0)\n",
    "rng.shuffle(x)\n",
    "\n",
    "# Seleccionamos 20 aleatoriamente y luego los acomodamos en orden\n",
    "x = np.sort(x[:20])\n",
    "\n",
    "# Calculamos el valor de salida del conjunto de aprendizaje\n",
    "y = f(x)"
   ]
  },
  {
   "cell_type": "markdown",
   "id": "0750fc2b-5954-47fa-9a9a-72a84d99b24f",
   "metadata": {},
   "source": [
    "Vamos a pegarle un ojo al problema real y los datos con los que hay que estimar esa curva (que el algortimo de aprendizaje no conoce)."
   ]
  },
  {
   "cell_type": "code",
   "execution_count": null,
   "id": "c86fb1c7-a9c5-44d0-9bf4-c1771b814265",
   "metadata": {},
   "outputs": [],
   "source": [
    "plt.figure(figsize=(12, 5))\n",
    "\n",
    "plt.plot(x_plot, f(x_plot), color='cornflowerblue', linewidth=2, label=\"Curva real\")\n",
    "plt.scatter(x, y, color='navy', s=30, marker='o', label=\"Ejemplos de entrenamiento\")\n",
    "\n",
    "plt.legend()\n",
    "plt.show()"
   ]
  },
  {
   "cell_type": "markdown",
   "id": "58204012-3e1a-4ce5-934e-ea3973caee25",
   "metadata": {},
   "source": [
    "Para el entrenamiento y la estimación, sobre todo para generar nuevas características (con un generador polinomial de características) es necesario que la entrada esté en formato de columnas por atributo."
   ]
  },
  {
   "cell_type": "code",
   "execution_count": null,
   "id": "a047627b-fabf-4462-85a8-7e8d2249ece6",
   "metadata": {},
   "outputs": [],
   "source": [
    "# create matrix versions of these arrays\n",
    "X = x[:, np.newaxis]\n",
    "X_plot = x_plot[:, np.newaxis]\n",
    "\n",
    "X.shape, X_plot.shape"
   ]
  },
  {
   "cell_type": "markdown",
   "id": "3efb8fe2-197c-441f-a7b0-c3a76a78521f",
   "metadata": {},
   "source": [
    "Ahora si, vamos a usar [regresión rígida](https://scikit-learn.org/stable/modules/generated/sklearn.linear_model.Ridge.html#sklearn.linear_model.Ridge) para el aprendizaje, y un [generador polinomial de características](https://scikit-learn.org/stable/modules/generated/sklearn.preprocessing.PolynomialFeatures.html#sklearn.preprocessing.PolynomialFeatures).\n",
    "\n",
    "Para asegurarnos que cuando busquemos hacer una estimación se hagan todos los procesos de pretratamiento antes de la estimación, es muy util guardarlos en un [`pipeline`](https://scikit-learn.org/stable/modules/generated/sklearn.pipeline.make_pipeline.html#sklearn.pipeline.make_pipeline)."
   ]
  },
  {
   "cell_type": "code",
   "execution_count": null,
   "id": "590a7706-731e-41ab-81a4-73965274276e",
   "metadata": {},
   "outputs": [],
   "source": [
    "from sklearn.linear_model import Ridge\n",
    "from sklearn.preprocessing import PolynomialFeatures\n",
    "from sklearn.pipeline import make_pipeline\n",
    "\n",
    "# Vamos a hacer un modelo, entrenarlo con los datos de entrenamiento\n",
    "# y estimar con los valores para graficar\n",
    "\n",
    "model = make_pipeline(PolynomialFeatures(3), Ridge())\n",
    "model.fit(X, y)\n",
    "y_plot = model.predict(X_plot)\n"
   ]
  },
  {
   "cell_type": "markdown",
   "id": "1503feae-cca5-4368-a25b-0dc2b673ec5b",
   "metadata": {},
   "source": [
    "Vamos a ver como nos salió"
   ]
  },
  {
   "cell_type": "code",
   "execution_count": null,
   "id": "8ac9d203-dd83-4029-a568-134c4231cf49",
   "metadata": {},
   "outputs": [],
   "source": [
    "plt.figure(figsize=(12, 5))\n",
    "\n",
    "plt.plot(x_plot, f(x_plot), color='cornflowerblue', linewidth=2, label=\"Curva real\")\n",
    "plt.scatter(x, y, color='navy', s=30, marker='o', label=\"Ejemplos de entrenamiento\")\n",
    "\n",
    "plt.plot(x_plot, y_plot, color='teal', linewidth=2, label=\"modelo de aprendizaje\")\n",
    "\n",
    "plt.legend()\n",
    "plt.show()"
   ]
  },
  {
   "cell_type": "markdown",
   "id": "098b4f83-9a6b-4dc2-9ef1-dd14b9e1c918",
   "metadata": {},
   "source": [
    "Ahora vamos a hacer lo misnmo para vários hiperparámetros (grados de polinomio y $\\alpha$ del algoritmo de aprendizaje)"
   ]
  },
  {
   "cell_type": "code",
   "execution_count": null,
   "id": "cc9b7a61-e76c-4a4b-ab2e-02c65caea676",
   "metadata": {},
   "outputs": [],
   "source": [
    "colores = ['teal', 'yellowgreen', 'gold']\n",
    "\n",
    "plt.figure(figsize=(12, 5))\n",
    "\n",
    "plt.plot(x_plot, f(x_plot), color='cornflowerblue', linewidth=2, label=\"Curva real\")\n",
    "plt.scatter(x, y, color='navy', s=30, marker='o', label=\"Ejemplos de entrenamiento\")\n",
    "\n",
    "for i, grado in enumerate([3, 4, 5]):\n",
    "    model = make_pipeline(PolynomialFeatures(grado), Ridge(alpha=1.0))\n",
    "    model.fit(X, y)\n",
    "    y_plot = model.predict(X_plot)\n",
    "    \n",
    "    \n",
    "    plt.plot(x_plot, y_plot, color=colores[i], linewidth=2, \n",
    "             label=f\"Polinomio de grado {grado}\")\n",
    "\n",
    "plt.legend()\n",
    "plt.show()"
   ]
  }
 ],
 "metadata": {
  "kernelspec": {
   "display_name": "Python 3 (ipykernel)",
   "language": "python",
   "name": "python3"
  },
  "language_info": {
   "codemirror_mode": {
    "name": "ipython",
    "version": 3
   },
   "file_extension": ".py",
   "mimetype": "text/x-python",
   "name": "python",
   "nbconvert_exporter": "python",
   "pygments_lexer": "ipython3",
   "version": "3.8.3"
  }
 },
 "nbformat": 4,
 "nbformat_minor": 5
}
