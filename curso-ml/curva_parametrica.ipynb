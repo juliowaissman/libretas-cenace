{
  "nbformat": 4,
  "nbformat_minor": 0,
  "metadata": {
    "colab": {
      "name": "curva_parametrica.ipynb",
      "provenance": [],
      "collapsed_sections": []
    },
    "kernelspec": {
      "name": "python3",
      "display_name": "Python 3"
    },
    "language_info": {
      "name": "python"
    }
  },
  "cells": [
    {
      "cell_type": "markdown",
      "metadata": {
        "id": "FpfLoSnWbIrI"
      },
      "source": [
        "<center>\n",
        "<p><img src=\"https://www.gob.mx/cms/uploads/image/file/179499/outstanding_quienes-somos.jpg\" width=\"300\">\n",
        "</p>\n",
        "\n",
        "\n",
        "\n",
        "# Curso *Machine Learning con uso de pandas, scikit learn y libretas jupyter*\n",
        "\n",
        "# Curvas de validación o paramétricas\n",
        "\n",
        "\n",
        "<p> Julio Waissman Vilanova </p>\n",
        "<p>\n",
        "<img src=\"https://identidadbuho.unison.mx/wp-content/uploads/2019/06/letragrama-cmyk-72.jpg\" width=\"80\">\n",
        "</p>\n",
        "</center>\n",
        "\n"
      ]
    },
    {
      "cell_type": "markdown",
      "metadata": {
        "id": "5ntiO2RhbQQM"
      },
      "source": [
        "Las curvas de validación nos permiten entender y ajustar parámetros en función del resultado de la aplicación de un alforitmo de aprendizaje máquina que depende de algún hiperparámetro.\n",
        "\n",
        "Estos hiperparámetros se ajustan en principio, asegurando una relación correcta entre sesgo y varianza. Esto lo vamos a hacer, suponiendo que el error que tengamos con la muestra de validación sea representativa del conjunto total.\n",
        "\n",
        "## Generación de un conjunto sintético de prueba\n",
        "\n",
        "Vamos a generar un conjunto muy simple\n"
      ]
    },
    {
      "cell_type": "code",
      "metadata": {
        "id": "mjef-rs4bEyq"
      },
      "source": [
        "import numpy as np\n",
        "import matplotlib.pyplot as pl\n",
        "\n",
        "x_real = np.linspace(-3, 3, 200)\n",
        "y_real = 1 / (1 + np.exp(-x_real))\n",
        "\n",
        "rng = np.random.RandomState(1)\n",
        "x = np.linspace(-3, 3, 20)\n",
        "y = 1 / (1 + np.exp(-x)) + .3 * rng.normal(0, 0.1, x.shape[0])\n",
        "x = x.reshape(-1, 1)\n",
        "\n",
        "pl.figure(figsize=(15, 7))\n",
        "pl.plot(x_real, y_real, label=\"Verdad\")\n",
        "pl.plot(x, y, 'o', label='Entrenamiento')\n",
        "pl.title(\"Ejemplo de logística con ruido gaussiano\")\n",
        "pl.legend()\n",
        "pl.show()"
      ],
      "execution_count": null,
      "outputs": []
    },
    {
      "cell_type": "markdown",
      "metadata": {
        "id": "r9IjdmgbmCh7"
      },
      "source": [
        "## Calculando la curva de validación para un parámetro\n",
        "\n",
        "Para empezar, vamos a calcular la curva de validación para un parámetro de una regresión por SVM. El parámetro que vamos a ajustar es $\\gamma$."
      ]
    },
    {
      "cell_type": "code",
      "metadata": {
        "id": "wwV06uhDk09e"
      },
      "source": [
        "from sklearn.svm import SVR\n",
        "from sklearn.model_selection import validation_curve\n",
        "\n",
        "rango = np.logspace(-4, 2, 10)\n",
        "train_scores, test_scores = validation_curve(\n",
        "    SVR(), x, y, \n",
        "    param_name=\"gamma\", \n",
        "    param_range=rango,\n",
        "    scoring=\"neg_median_absolute_error\"\n",
        ")\n",
        "train_scores_mean = np.mean(train_scores, axis=1)\n",
        "train_scores_std = np.std(train_scores, axis=1)\n",
        "test_scores_mean = np.mean(test_scores, axis=1)\n",
        "test_scores_std = np.std(test_scores, axis=1)\n"
      ],
      "execution_count": 16,
      "outputs": []
    },
    {
      "cell_type": "markdown",
      "metadata": {
        "id": "dz-NhWLEndzl"
      },
      "source": [
        "## Graficando la curva paramétrica\n"
      ]
    },
    {
      "cell_type": "code",
      "metadata": {
        "id": "-k8IvJX3nim6"
      },
      "source": [
        "with pl.style.context(('ggplot')):\n",
        "  pl.figure(figsize=(15,7))\n",
        "  pl.title(r\"Curva de validación de $\\gamma$ para un SVR\")\n",
        "  pl.xlabel(r\"$\\gamma$\")\n",
        "  pl.ylabel(\"MAE\")\n",
        "  pl.semilogx(\n",
        "      rango, \n",
        "      train_scores_mean, \n",
        "      label=\"Training score\", color=\"darkorange\", lw=2\n",
        "  )\n",
        "  pl.fill_between(\n",
        "      rango, \n",
        "      train_scores_mean - train_scores_std,\n",
        "      train_scores_mean + train_scores_std, \n",
        "      alpha=0.2, color=\"darkorange\", lw=2\n",
        "  )\n",
        "  pl.semilogx(\n",
        "      rango, \n",
        "      test_scores_mean, \n",
        "      label=\"Cross-validation score\", color=\"navy\", lw=2\n",
        "  )\n",
        "  pl.fill_between(\n",
        "      rango, \n",
        "      test_scores_mean - test_scores_std,\n",
        "      test_scores_mean + test_scores_std, \n",
        "      alpha=0.2, color=\"navy\", lw=2)\n",
        "  pl.legend(loc=\"best\")\n",
        "  pl.show()"
      ],
      "execution_count": null,
      "outputs": []
    },
    {
      "cell_type": "markdown",
      "metadata": {
        "id": "m__tN41Apshl"
      },
      "source": [
        "## Ahora vamos a probar\n",
        "\n",
        "1. Prueba con otros parámetros ($\\epsilon$ o C por ejemplo).\n",
        "2. Prueba con otros métodos (y sus propios parámetros)\n"
      ]
    }
  ]
}