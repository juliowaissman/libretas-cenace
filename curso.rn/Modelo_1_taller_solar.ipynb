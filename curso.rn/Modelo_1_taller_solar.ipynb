{
 "cells": [
  {
   "cell_type": "markdown",
   "metadata": {
    "id": "Gld--MIqhK3N"
   },
   "source": [
    "<center><H1>Modelo neuronal para estimación de generación de energía fotovoltáica con</H1><center>\n",
    "\n",
    "\n",
    "<center><H2>Julio Waissman Vilanova</H2>"
   ]
  },
  {
   "cell_type": "markdown",
   "metadata": {
    "id": "EeSwS-CIhK3P"
   },
   "source": [
    "<table align=\"center\">\n",
    "      <td align=\"center\"><a target=\"_blank\" href=\"https://www.unison.mx\">\n",
    "            <img src=\"https://www.unison.mx/wp-content/themes/awaken/images/logo.png\"  height=\"70px\" style=\"padding-bottom:5px;\"  /></a></td>  \n",
    "      <td align=\"center\"><a target=\"_blank\" href=\"https://www.gob.mx/cenace\">\n",
    "            <img src=\"https://universidad.cenace.gob.mx/pluginfile.php/244/block_html/content/CENACE-logo-completo.png\" width=\"300\" style=\"padding-bottom:5px;\" /></a></td>\n",
    "      <td align=\"center\"><a target=\"_blank\" href=\"https://colab.research.google.com/github/juliowaissman/rn-cenace/blob/main/Modelo_1_taller_solar.ipynb\">\n",
    "            <img src=\"https://i.ibb.co/2P3SLwK/colab.png\"  style=\"padding-bottom:5px;\" />Ejecuta en Google Colab</a></td>\n",
    "\n",
    "</table>"
   ]
  },
  {
   "cell_type": "code",
   "execution_count": null,
   "metadata": {
    "id": "b2PI0UqLZqTD"
   },
   "outputs": [],
   "source": [
    "import numpy as np\n",
    "import pandas as pd\n",
    "import matplotlib.pyplot as plt\n",
    "\n",
    "import tensorflow as tf\n",
    "from tensorflow import keras\n",
    "from tensorflow.keras import layers\n",
    "\n",
    "plt.style.use('ggplot')"
   ]
  },
  {
   "cell_type": "markdown",
   "metadata": {
    "id": "xSGuY41Ib6p2"
   },
   "source": [
    "## Cargando los datos\n",
    "\n",
    "Vamos a cargar los datos que nos proporcionó la Gerencia Regional Noroeste sobre una planta de generación de energía fotovoltáica y vamos a ver si somos capaces de predecir la Generación de energía utilizando la información de la Radiación, así como la información de la fecha."
   ]
  },
  {
   "cell_type": "code",
   "execution_count": null,
   "metadata": {
    "colab": {
     "base_uri": "https://localhost:8080/"
    },
    "id": "MZowTt93Y27d",
    "outputId": "828c75dc-c3b8-483a-a174-deba873107e1"
   },
   "outputs": [],
   "source": [
    "url = \"https://github.com/juliowaissman/curso-ml-cenace/raw/main/datos/Dataset_GeneracionFV.xlsx\"\n",
    "df = pd.read_excel(url, sheet_name=1)\n",
    "df.info()"
   ]
  },
  {
   "cell_type": "code",
   "execution_count": null,
   "metadata": {
    "colab": {
     "base_uri": "https://localhost:8080/"
    },
    "id": "XEYOsGPiaDRI",
    "outputId": "32ed6415-6831-406b-fe6b-463d0804626b"
   },
   "outputs": [],
   "source": [
    "df.index = df.Fecha\n",
    "df['Hora'] = df.index.hour\n",
    "df['Dia'] = df.index.day\n",
    "df['Mes'] = df.index.month\n",
    "df.rename(columns={'Radiacion_FV_W/m2': 'Radiacion_FV'}, inplace=True)\n",
    "df.info()"
   ]
  },
  {
   "cell_type": "markdown",
   "metadata": {
    "id": "09Vw3h51hK3S"
   },
   "source": [
    "## Hagamos un pequeño análisis exploratorio de datos"
   ]
  },
  {
   "cell_type": "code",
   "execution_count": null,
   "metadata": {
    "colab": {
     "base_uri": "https://localhost:8080/",
     "height": 459
    },
    "id": "07mJ53APcVRI",
    "outputId": "435abe44-c9ed-4751-ddf1-b248c495fe63"
   },
   "outputs": [],
   "source": [
    "df.plot.scatter(\n",
    "    y='Generacion_FV_MW',\n",
    "    x='Radiacion_FV',\n",
    "    #s='Dia',\n",
    "    c='Mes',\n",
    "    colormap='jet',\n",
    "    figsize=(15,7)\n",
    ")"
   ]
  },
  {
   "cell_type": "markdown",
   "metadata": {
    "id": "Y31tPtdgcPPa"
   },
   "source": [
    "Al parecer hay varios valores aberrantes que deberíamos limpiar para hacer una predicción, por el momento vamos a dejarlos y regresaremos con la limpieza en un segundo término"
   ]
  },
  {
   "cell_type": "code",
   "execution_count": null,
   "metadata": {
    "colab": {
     "base_uri": "https://localhost:8080/"
    },
    "id": "L7cP0MhGhK3T",
    "outputId": "272c2d04-5a3c-4b3c-cb0c-1145d561e2e3"
   },
   "outputs": [],
   "source": [
    "df.query('Radiacion_FV > 20 and Generacion_FV_MW < .5').Mes.value_counts()"
   ]
  },
  {
   "cell_type": "markdown",
   "metadata": {
    "id": "7Mg6xOrgfjsY"
   },
   "source": [
    "## Predicción de la generación usando redes neuronales\n",
    "\n",
    "Para este problema vamos a ir desarrollando el problema paso a paso.\n",
    "\n",
    "Para esto vamos a hacer algunas hipótesis:\n",
    "\n",
    "- El problema es estático: la generación de energía va a depender sólo de la radiación en el mismo momento, la hora del día, el día del mes y el mes del año.\n",
    "\n",
    "- Los datos como hora, día y mes los vamos a codificar directamente, y luego veremos como funciona con one-hot encoding\n",
    "\n",
    "- Vamos a probar primero si sólo con la radiación es posible generalizar algo decente.\n",
    "\n",
    "\n",
    "### Paso 1: Seleccionar los datos y separar en conjunto de datos de entrenamiento y conjunto de datos de prueba"
   ]
  },
  {
   "cell_type": "code",
   "execution_count": null,
   "metadata": {
    "colab": {
     "base_uri": "https://localhost:8080/"
    },
    "id": "Dr9r7NJOgpRA",
    "outputId": "d4c41e41-60ce-4998-ba69-ff40ed8eebde"
   },
   "outputs": [],
   "source": [
    "#x = df.Radiacion_FV.to_numpy().reshape(-1,1)\n",
    "x = df[['Radiacion_FV', 'Hora', 'Mes']].to_numpy()\n",
    "y = df.Generacion_FV_MW.to_numpy()\n",
    "\n",
    "#TODO: Al terminar de hacer el modelo \n",
    "#    con solo una entrada y una salida, probar \n",
    "#    agregar otras variables y documentar\n",
    "\n",
    "print(f\"La forma de x: {x.shape} y la de y = {y.shape}\")\n",
    "\n",
    "#TODO: Separa en un conjunto de prueba y otro de test\n",
    "#      de manera que se escojan en forma aleatoria \n",
    "#      5000 datos en el conjunto de aprendizaje\n",
    "\n",
    "# --- Agrega aqui tu código ---\n",
    "\n",
    "from sklearn.model_selection import train_test_split\n",
    "\n",
    "x_train, x_test, y_train, y_test = train_test_split(x, y, train_size=5000)\n"
   ]
  },
  {
   "cell_type": "code",
   "execution_count": null,
   "metadata": {
    "colab": {
     "base_uri": "https://localhost:8080/"
    },
    "id": "iwqlZl_nvxfA",
    "outputId": "d3220766-44b2-4181-ab4f-9a7916bf1799"
   },
   "outputs": [],
   "source": [
    "x_train.shape"
   ]
  },
  {
   "cell_type": "markdown",
   "metadata": {
    "id": "W48EaU5dhK3V"
   },
   "source": [
    "### Paso 2: definir una red neuronal \n",
    "\n",
    "Recuerda que solo tenemos 5000 datos de entrenamiento (de ser posible, el número de datos de entrenamiento debería ser al menos 10 veces mayor que el número de parámetros del modelo)"
   ]
  },
  {
   "cell_type": "code",
   "execution_count": null,
   "metadata": {
    "colab": {
     "base_uri": "https://localhost:8080/"
    },
    "id": "0iW-nJdehK3V",
    "outputId": "3d89f314-9dd2-401f-eb57-f32f5249250d",
    "scrolled": true
   },
   "outputs": [],
   "source": [
    "def modelo_sin_compil(nombre=\"Solar_1\"):\n",
    "    modelo = keras.models.Sequential(name=nombre)\n",
    "\n",
    "    #TODO: ajusta un modelo\n",
    "    # Completa donde dice None y agrega las capas que consideres\n",
    "    modelo.add(layers.Dense(30, activation='sigmoid', input_shape=(x.shape[1],), name=\"capa_1\"))\n",
    "    modelo.add(layers.Dense(10, activation='sigmoid', name=\"capa_2\"))\n",
    "    modelo.add(layers.Dense(1, activation='linear', name=\"capa_salida\"))\n",
    "    #-- Agrega mas capas si tu consideres necesario\n",
    "    return modelo\n",
    "\n",
    "modelo = modelo_sin_compil()\n",
    "\n",
    "modelo.summary()"
   ]
  },
  {
   "cell_type": "markdown",
   "metadata": {
    "id": "X7jOW0uxhK3V"
   },
   "source": [
    "### Paso 3 Compila el modelo\n",
    "\n",
    "Selecciona los parámetros que creas más convenientes"
   ]
  },
  {
   "cell_type": "code",
   "execution_count": null,
   "metadata": {
    "id": "MpMUYNoyhK3W"
   },
   "outputs": [],
   "source": [
    "def bias_gcr(y_true, y_pred):\n",
    "    gcr = 100\n",
    "    difference = tf.subtract(y_true, y_pred) \n",
    "    return tf.multiply(tf.constant(100/gcr), tf.reduce_mean(difference, axis=-1))\n",
    "\n",
    "def modelo_compilado():\n",
    "    #TODO: Selecciona optimizador, función de pérdida y métricas\n",
    "    #      Completa donde dice None\n",
    "    mdl = modelo_sin_compil()\n",
    "    mdl.compile(\n",
    "        optimizer= keras.optimizers.Adam(),\n",
    "        loss=keras.losses.MeanAbsoluteError(),\n",
    "        metrics=[\n",
    "          keras.metrics.MeanSquaredError(),\n",
    "          bias_gcr\n",
    "        ],\n",
    "    )\n",
    "    return mdl\n",
    "\n",
    "modelo = modelo_compilado()"
   ]
  },
  {
   "cell_type": "markdown",
   "metadata": {
    "id": "EVSP6tR5hK3W"
   },
   "source": [
    "### Paso 4 Entrena el modelo\n",
    "\n",
    "Vamos a repetir este paso mientras parezca que no hay sobreaprendizaje (vamos a hacer el early stoping a mano en este caso)"
   ]
  },
  {
   "cell_type": "code",
   "execution_count": null,
   "metadata": {
    "colab": {
     "base_uri": "https://localhost:8080/"
    },
    "id": "_LKqgqT8hK3W",
    "outputId": "17209bbd-0170-4062-d7ec-a254e0febb66"
   },
   "outputs": [],
   "source": [
    "\n",
    "#TODO: Selecciona el numero de epochs (pocos cada vez)\n",
    "num_epochs = 40\n",
    "\n",
    "print(f\"Entrenamiento del modelo en {num_epochs} epochs\")\n",
    "\n",
    "history = modelo.fit(\n",
    "    x_train,\n",
    "    y_train,\n",
    "    batch_size=64,\n",
    "    epochs=num_epochs,\n",
    "    validation_split=0.2 # Selecciona el porcentaje de datos para usar como validación\n",
    ")"
   ]
  },
  {
   "cell_type": "code",
   "execution_count": null,
   "metadata": {
    "colab": {
     "base_uri": "https://localhost:8080/",
     "height": 1000
    },
    "id": "ypcPh07ehK3X",
    "outputId": "19b02b86-dc90-47bd-a140-c05db4bdf863"
   },
   "outputs": [],
   "source": [
    "pd.DataFrame(history.history)"
   ]
  },
  {
   "cell_type": "markdown",
   "metadata": {
    "id": "vrVU8zJUhK3X"
   },
   "source": [
    "En función de como vez que evoluciona la pérdida y las métricas en los datos de validación y entrenamiento, puedes ejecutar de nuevo las dos celdas anteriores. Cada vez que las vuelvas a ejecutar, se realizan otros epochs más en el entrenamiento. Ten cuidado para evitar el sobreaprendizaje.\n",
    "\n",
    "Si quieres reinicializar el modelo, ejecuta\n",
    "\n",
    "```python\n",
    "modelo = modelo_compilado()\n",
    "```"
   ]
  },
  {
   "cell_type": "markdown",
   "metadata": {
    "id": "X4ijjLr3hK3X"
   },
   "source": [
    "### Paso 5 Evalúa con los datos de prueba\n",
    "\n",
    "Este paso se ejecuta sólamente si el valor de pérdida y de las métricas se consideran aceptables. Si no es necesario buscar nuevos modelos."
   ]
  },
  {
   "cell_type": "code",
   "execution_count": null,
   "metadata": {
    "colab": {
     "base_uri": "https://localhost:8080/"
    },
    "id": "ihAHJ39MhK3Y",
    "outputId": "c6bbc545-1472-4159-c01f-01b4bea19cb6"
   },
   "outputs": [],
   "source": [
    "print(\"Evaluando en los datos de prueba\")\n",
    "\n",
    "results = modelo.evaluate(x_test, y_test, batch_size=128)\n",
    "\n",
    "print(\"\\n\\nPérdida en test, Métricas en test:\", results)"
   ]
  },
  {
   "cell_type": "markdown",
   "metadata": {
    "id": "z0U5FST6hK3Y"
   },
   "source": [
    "### Paso 6 Simula para todos los datos\n",
    "\n",
    "Vamos a predecir para todos los datos y ver como se comporta el modelo respecto a los datos que tenemos:"
   ]
  },
  {
   "cell_type": "code",
   "execution_count": null,
   "metadata": {
    "colab": {
     "base_uri": "https://localhost:8080/",
     "height": 756
    },
    "id": "walifo-AhK3Y",
    "outputId": "1950645f-ef44-4b6b-a0c4-beb724235313"
   },
   "outputs": [],
   "source": [
    "y_est = modelo.predict(x)\n",
    "\n",
    "plt.figure(figsize=(15, 12))\n",
    "plt.scatter(x[:,0], y, label=\"Reales\")\n",
    "plt.scatter(x[:,0], y_est, label=\"Estimados\")\n",
    "plt.title(\"Estimación neuronal de la generación fotovoltáica\")\n",
    "plt.xlabel('Radiacion FV (W/m2)')\n",
    "plt.ylabel('Generacion FV (MW)')\n",
    "plt.legend()\n",
    "plt.show()"
   ]
  },
  {
   "cell_type": "markdown",
   "metadata": {
    "id": "ZRzVyNZkhK3Z"
   },
   "source": [
    "### Paso 7 Revisa y critica el modelo\n",
    "\n",
    "Si el modelo te gustó y crees que vale la pena mantenerlo, entonces guardalo en disco, y agrega un archivo texto con la explicacion del modelo.\n",
    "\n",
    "Realiza una funcion ```preprocesamiento_modelo1``` tal que reciba el nombre del archivo y devuelva los datos en la forma que se requiere para poder estimar con tu modelo\n"
   ]
  },
  {
   "cell_type": "code",
   "execution_count": null,
   "metadata": {
    "colab": {
     "base_uri": "https://localhost:8080/"
    },
    "id": "QuOviulEhK3Z",
    "outputId": "78e35f1b-4dcd-49bd-e839-5ac0c7526b76"
   },
   "outputs": [],
   "source": [
    "# Esto tenra que modificarse o comentarse \n",
    "# conforme se vayan desarrollando modelos más sofisticados\n",
    "\n",
    "def preprocesamiento_modelo1(file):\n",
    "    \"\"\"Regresa x, y usados en el modelo1\"\"\"\n",
    "    df = pd.read_excel(url, sheet_name=1)\n",
    "    df.rename(columns={'Radiacion_FV_W/m2': 'Radiacion_FV'}, inplace=True)\n",
    "    return df.Radiacion_FV.to_numpy(), df.Generacion_FV_MW.to_numpy()\n",
    "\n",
    "\n",
    "# Guardando el modelo y su documentación\n",
    "\n",
    "modelo.save(\"modelo_1\")\n",
    "\n",
    "nota = \"\"\"Modelo 1\n",
    "Entrada: 'Radiacion_FV_W/m2'\n",
    "Salida: 'Generacion_FV_MW'\n",
    "\n",
    "primer intento\n",
    "\n",
    "Elaborado por J Waissman (2021)\n",
    "\"\"\"  \n",
    "\n",
    "with open('modelo_1.txt', 'w+') as fh:\n",
    "    fh.write(nota)\n",
    "    \n",
    "    "
   ]
  },
  {
   "cell_type": "markdown",
   "metadata": {
    "id": "ZTa46svkhK3Z"
   },
   "source": [
    "### Paso 8 Prueba un modelo diferente\n",
    "\n",
    "¿Habrá un mejor modelo? ¿Uno similar con menos parámetros? ¿La selección que se realizó es la correcta en cuanto a método de optimización? ¿Sería bueno agregar regularización?\n",
    "\n",
    "¿Que pasaria si se toma en cuenta la hora y el día? ¿Y si se consideran valores pasados?"
   ]
  }
 ],
 "metadata": {
  "colab": {
   "collapsed_sections": [],
   "name": "Modelo 1 taller_solar.ipynb",
   "provenance": []
  },
  "kernelspec": {
   "display_name": "Python 3 (ipykernel)",
   "language": "python",
   "name": "python3"
  },
  "language_info": {
   "codemirror_mode": {
    "name": "ipython",
    "version": 3
   },
   "file_extension": ".py",
   "mimetype": "text/x-python",
   "name": "python",
   "nbconvert_exporter": "python",
   "pygments_lexer": "ipython3",
   "version": "3.8.3"
  }
 },
 "nbformat": 4,
 "nbformat_minor": 1
}
