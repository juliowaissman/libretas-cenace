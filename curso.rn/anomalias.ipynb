{
  "nbformat": 4,
  "nbformat_minor": 0,
  "metadata": {
    "colab": {
      "name": "anomalias.ipynb",
      "provenance": [],
      "collapsed_sections": []
    },
    "kernelspec": {
      "name": "python3",
      "display_name": "Python 3"
    },
    "language_info": {
      "name": "python"
    }
  },
  "cells": [
    {
      "cell_type": "markdown",
      "metadata": {
        "id": "CYm2OW1zWeNQ"
      },
      "source": [
        "<center><H1>Un primer estudio para la detección de anomalías</H1><center>\n",
        "\n",
        "<center><img src=\"https://www.gstatic.com/devrel-devsite/prod/ve2848ad92313fddfcd40baeb58a2f663fe2fd55c371a714a6bb3e329e2b15223/tensorflow/images/lockup.svg\"  height=\"80px\" style=\"padding-bottom:5px;\"  /></center>\n",
        "\n",
        "<center><H2>Julio Waissman Vilanova</H2>"
      ]
    },
    {
      "cell_type": "markdown",
      "metadata": {
        "id": "p9wfOUplWu4u"
      },
      "source": [
        "<table align=\"center\">\n",
        "      <td align=\"center\"><a target=\"_blank\" href=\"https://www.unison.mx\">\n",
        "            <img src=\"https://www.unison.mx/wp-content/themes/awaken/images/logo.png\"  height=\"70px\" style=\"padding-bottom:5px;\"  /></a></td>  \n",
        "      <td align=\"center\"><a target=\"_blank\" href=\"https://www.gob.mx/cenace\">\n",
        "            <img src=\"https://universidad.cenace.gob.mx/pluginfile.php/244/block_html/content/CENACE-logo-completo.png\" width=\"300\" style=\"padding-bottom:5px;\" /></a></td>\n",
        "      <td align=\"center\"><a target=\"_blank\" href=\"https://colab.research.google.com/github/juliowaissman/rn-cenace/blob/main/anomalias.ipynb\">\n",
        "            <img src=\"https://i.ibb.co/2P3SLwK/colab.png\"  style=\"padding-bottom:5px;\" />Ejecuta en Google Colab</a></td>\n",
        "\n",
        "</table>"
      ]
    },
    {
      "cell_type": "code",
      "metadata": {
        "id": "RSXV-iQ1WZAO"
      },
      "source": [
        "# Las bibliotecas de base\n",
        "import numpy as np\n",
        "import pandas as pd\n",
        "import matplotlib.pyplot as plt\n",
        "\n",
        "# Para normalizar los datos de entrada\n",
        "from sklearn.preprocessing import MinMaxScaler\n",
        "\n",
        "#Tensorflow con keras\n",
        "import tensorflow as tf\n",
        "from tensorflow import keras\n",
        "from tensorflow.keras import layers\n",
        "\n",
        "# Gráficas más fáciles de manipular con plotly\n",
        "import plotly.express as px\n",
        "import plotly.graph_objects as go\n",
        "\n",
        "# Como se verán las gráficas de matplotlib\n",
        "plt.style.use('ggplot')\n",
        "plt.rcParams['figure.figsize'] = (30,15)"
      ],
      "execution_count": 12,
      "outputs": []
    },
    {
      "cell_type": "code",
      "metadata": {
        "id": "E4k0KCPXXVoY"
      },
      "source": [
        "url = \"https://github.com/juliowaissman/rn-cenace/raw/main/proyectos/Alfredo/7Sep2021_2047hrs.xlsx\"\n",
        "df_raw1 = pd.read_excel(url, sheet_name=0)\n",
        "print(df_raw1.info())\n",
        "df_raw2 = pd.read_excel(url, sheet_name=1)\n",
        "print(df_raw2.info())\n",
        "df_raw3 = pd.read_excel(url, sheet_name=2)\n",
        "print(df_raw3.info())\n"
      ],
      "execution_count": null,
      "outputs": []
    },
    {
      "cell_type": "code",
      "metadata": {
        "id": "Zo_ZlvUaYbJS"
      },
      "source": [
        "df_raw1.set_index(df_raw1['Timestamp (UTC)'], inplace=True)\n",
        "\n",
        "# Frecuencias raras: 9, 13, 14, 28, 30, 36, \n",
        "# Escalonados: 37, 38, \n",
        "# Posibles fallas: 18, 19\n",
        "df_raw1.iloc[:, [i for i in range(1,36) if i not in [9, 13, 14, 18, 19, 28, 30]]].plot()\n"
      ],
      "execution_count": null,
      "outputs": []
    },
    {
      "cell_type": "code",
      "metadata": {
        "id": "gkFX6Oz5eioX"
      },
      "source": [
        "a = df_raw1.iloc[:, [i for i in range(1,36) if i not in [9, 13, 14, 18, 19, 28, 30]]].values\n",
        "df_raw1['Media'] = a.mean(axis=1)\n",
        "df_raw1['Std'] = a.std(axis=1)\n",
        "df_raw1['Q3inc'] = np.percentile(a, 75, axis=1) - df_raw1.Media\n",
        "df_raw1.Std.plot()"
      ],
      "execution_count": null,
      "outputs": []
    },
    {
      "cell_type": "code",
      "metadata": {
        "id": "kgqljsKefDrb"
      },
      "source": [
        "df_raw1.Media.diff(3).plot()"
      ],
      "execution_count": null,
      "outputs": []
    },
    {
      "cell_type": "code",
      "metadata": {
        "id": "ecHg1_tYiEZs"
      },
      "source": [
        "fig = go.Figure([\n",
        "    go.Scatter(\n",
        "        x=df_raw1.index, y=df_raw1.Media,\n",
        "        name='Media', mode='lines', line=dict(color='rgb(31, 119, 180)'),\n",
        "    ),\n",
        "    go.Scatter(\n",
        "        x=df_raw1.index, y=df_raw1.Media + df_raw1.Std,\n",
        "        name='+std', mode='lines', marker=dict(color=\"#444\"),\n",
        "        line=dict(width=0), showlegend=False\n",
        "    ),\n",
        "    go.Scatter(\n",
        "        x=df_raw1.index, y=df_raw1.Media - df_raw1.Std,\n",
        "        name='-std', marker=dict(color=\"#444\"),\n",
        "        line=dict(width=0), mode='lines', fillcolor='rgba(68, 68, 68, 0.3)',\n",
        "        fill='tonexty', showlegend=False\n",
        "    )\n",
        "])\n",
        "fig.update_layout(\n",
        "    yaxis_title='Frecuencia',\n",
        "    title='Frecuencia media y desviación estandar',\n",
        "    hovermode=\"x\"\n",
        ")\n",
        "fig.show()"
      ],
      "execution_count": null,
      "outputs": []
    }
  ]
}